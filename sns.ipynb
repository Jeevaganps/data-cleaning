{
 "cells": [
  {
   "cell_type": "code",
   "execution_count": 1,
   "metadata": {},
   "outputs": [
    {
     "name": "stdout",
     "output_type": "stream",
     "text": [
      "     GPA  Gender  breakfast  calories_chicken  calories_day  calories_scone  \\\n",
      "0    2.4       2          1               430           NaN           315.0   \n",
      "1  3.654       1          1               610           3.0           420.0   \n",
      "2    3.3       1          1               720           4.0           420.0   \n",
      "3    3.2       1          1               430           3.0           420.0   \n",
      "4    3.5       1          1               720           2.0           420.0   \n",
      "\n",
      "   coffee                      comfort_food        comfort_food_reasons  \\\n",
      "0       1                              none       we dont have comfort    \n",
      "1       2       chocolate, chips, ice cream        Stress, bored, anger   \n",
      "2       2   frozen yogurt, pizza, fast food             stress, sadness   \n",
      "3       2  Pizza, Mac and cheese, ice cream                     Boredom   \n",
      "4       2      Ice cream, chocolate, chips   Stress, boredom, cravings    \n",
      "\n",
      "   comfort_food_reasons_coded  ...  soup  sports  thai_food tortilla_calories  \\\n",
      "0                         9.0  ...   1.0     1.0          1            1165.0   \n",
      "1                         1.0  ...   1.0     1.0          2             725.0   \n",
      "2                         1.0  ...   1.0     2.0          5            1165.0   \n",
      "3                         2.0  ...   1.0     2.0          5             725.0   \n",
      "4                         1.0  ...   1.0     1.0          4             940.0   \n",
      "\n",
      "   turkey_calories  type_sports veggies_day  vitamins  waffle_calories  \\\n",
      "0              345   car racing           5         1             1315   \n",
      "1              690  Basketball            4         2              900   \n",
      "2              500         none           5         1              900   \n",
      "3              690          NaN           3         1             1315   \n",
      "4              500     Softball           4         2              760   \n",
      "\n",
      "                     weight  \n",
      "0                       187  \n",
      "1                       155  \n",
      "2  I'm not answering this.   \n",
      "3             Not sure, 240  \n",
      "4                       190  \n",
      "\n",
      "[5 rows x 61 columns]\n"
     ]
    }
   ],
   "source": [
    "import pandas as pd\n",
    "import numpy as np\n",
    "data = pd.read_csv('C:\\\\Users\\\\jeeva\\\\Downloads\\\\food_coded.csv')\n",
    "print(data.head())"
   ]
  },
  {
   "cell_type": "code",
   "execution_count": null,
   "metadata": {},
   "outputs": [],
   "source": []
  }
 ],
 "metadata": {
  "kernelspec": {
   "display_name": "Python 3",
   "language": "python",
   "name": "python3"
  },
  "language_info": {
   "codemirror_mode": {
    "name": "ipython",
    "version": 3
   },
   "file_extension": ".py",
   "mimetype": "text/x-python",
   "name": "python",
   "nbconvert_exporter": "python",
   "pygments_lexer": "ipython3",
   "version": "3.9.11"
  }
 },
 "nbformat": 4,
 "nbformat_minor": 2
}
